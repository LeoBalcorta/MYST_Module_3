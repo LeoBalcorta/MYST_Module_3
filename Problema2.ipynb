{
 "cells": [
  {
   "cell_type": "code",
   "execution_count": 201,
   "id": "528b1cc9",
   "metadata": {},
   "outputs": [],
   "source": [
    "# Librerias\n",
    "import pandas as pd\n",
    "import numpy as np\n",
    "import yfinance as yf\n",
    "import functions as fn\n",
    "from pandas import Series\n"
   ]
  },
  {
   "cell_type": "code",
   "execution_count": 202,
   "id": "7d26a904",
   "metadata": {},
   "outputs": [],
   "source": [
    "df=fn.f_leer_archivo(\"reporteEmiliano.csv\")\n",
    "dfdf=fn.f_leer_archivo(\"reporteEmiliano.csv\")"
   ]
  },
  {
   "cell_type": "code",
   "execution_count": 203,
   "id": "98a9b532",
   "metadata": {},
   "outputs": [],
   "source": [
    "df2=fn.f_columnas_tiempos(df)"
   ]
  },
  {
   "cell_type": "code",
   "execution_count": 204,
   "id": "84b41fc9",
   "metadata": {},
   "outputs": [],
   "source": [
    "df3=fn.f_columnas_pips(df2)"
   ]
  },
  {
   "cell_type": "code",
   "execution_count": 205,
   "id": "047061b5",
   "metadata": {},
   "outputs": [],
   "source": [
    "df4=fn.f_evolucion_capital(df3)"
   ]
  },
  {
   "cell_type": "code",
   "execution_count": 206,
   "id": "743a22ad",
   "metadata": {},
   "outputs": [],
   "source": [
    "df4['Profit_acm_d']=df4['Profit_acm_d']+100000"
   ]
  },
  {
   "cell_type": "markdown",
   "id": "35553c51",
   "metadata": {},
   "source": [
    "def f_estadisticas_mad(df,param_data):\n",
    "    "
   ]
  },
  {
   "cell_type": "code",
   "execution_count": 207,
   "id": "9dac0ec7",
   "metadata": {},
   "outputs": [],
   "source": [
    "def f_estadisticas_mad(rf,df4,param_data):\n",
    "\n",
    "    dfdf = param_data\n",
    "    \n",
    "    #Sharpe_ratio\n",
    "    rp = np.log(df4.Profit_acm_d) - np.log(df4.Profit_acm_d.shift(periods=1)) #rendimientos logarimicos\n",
    "    rp[0]=0\n",
    "    sharp_original= (rp.mean() - (rf/252)) / rp.std()\n",
    "\n",
    "    #Sharpe_Actualizado\n",
    "    sp500=fn.adjP('^GSPC')\n",
    "    rp500=np.log(sp500) - np.log(sp500.shift(periods=1)) #rendimientos logaritmicos\n",
    "    rp500[0]=0\n",
    "    sharpe_actualizado = (rp.mean() - rp500.mean()) / (rp.values-rp500.values).std()\n",
    "\n",
    "    # Drawdown & Drawup \n",
    "    min_max_df = pd.DataFrame(index=range(2), columns=['Open_Time', 'Close_Time'])\n",
    "    for i in range(len(dfdf)):\n",
    "        if dfdf['Profit'][i] == dfdf['Profit'].min(): #Se guarda en la fila 0 el tiempo en donde se registro el valor flotante mas pequeño\n",
    "            min_max_df['Open_Time'][0] = dfdf['Open Time'][i]\n",
    "            min_max_df['Close_Time'][0] = dfdf['Close Time'][i]\n",
    "        elif dfdf['Profit'][i] == dfdf['Profit'].max(): #Se guarda en la fila 1 el tiempo en donde se registro el valor flotante mas grande\n",
    "            min_max_df['Open_Time'][1] = dfdf['Open Time'][i]\n",
    "            min_max_df['Close_Time'][1] = dfdf['Close Time'][i]\n",
    "\n",
    "    #DataFrame de f_estadisticas_mad\n",
    "    df_estadisticas_mad = pd.DataFrame(index=range(8), columns=['Métrica', ' ', 'Valor', 'Descripción'])\n",
    "    df_estadisticas_mad['Métrica'] = ['sharp_original','sharpe_actualizado','drawdown_capi','drawdown_capi','drawdown_capi','drawup_capi','drawup_capi','drawup_capi']\n",
    "    df_estadisticas_mad[' '] = ['Cantidad','Cantidad','Fecha Inicial','Fecha Final','DrawDown $ (capital)','Fecha Inicial','Fecha Final','DrawUp $ (capital)']\n",
    "    df_estadisticas_mad['Descripción'] = ['Sharpe Ratio Fórmula Original','Sharpe Ratio Fórmula Original','Fecha inicial del DrawDown de Capital','Fecha final del DrawDown de Capital','Máxima pérdida flotante registrada','Fecha inicial del DrawUp de Capital','\tFecha final del DrawUp de Capital','Máxima ganancia flotante registrada']\n",
    "    df_estadisticas_mad['Valor'] = [sharp_original,sharpe_actualizado,min_max_df['Open_Time'][0],min_max_df['Close_Time'][0],dfdf['Profit'].min(),min_max_df['Open_Time'][1],min_max_df['Close_Time'][1],dfdf['Profit'].max()]\n",
    "\n",
    "    return df_estadisticas_mad\n",
    "    "
   ]
  },
  {
   "cell_type": "code",
   "execution_count": 208,
   "id": "4e147960",
   "metadata": {},
   "outputs": [
    {
     "name": "stdout",
     "output_type": "stream",
     "text": [
      "[*********************100%***********************]  1 of 1 completed\n"
     ]
    },
    {
     "data": {
      "text/html": [
       "<div>\n",
       "<style scoped>\n",
       "    .dataframe tbody tr th:only-of-type {\n",
       "        vertical-align: middle;\n",
       "    }\n",
       "\n",
       "    .dataframe tbody tr th {\n",
       "        vertical-align: top;\n",
       "    }\n",
       "\n",
       "    .dataframe thead th {\n",
       "        text-align: right;\n",
       "    }\n",
       "</style>\n",
       "<table border=\"1\" class=\"dataframe\">\n",
       "  <thead>\n",
       "    <tr style=\"text-align: right;\">\n",
       "      <th></th>\n",
       "      <th>Métrica</th>\n",
       "      <th></th>\n",
       "      <th>Valor</th>\n",
       "      <th>Descripción</th>\n",
       "    </tr>\n",
       "  </thead>\n",
       "  <tbody>\n",
       "    <tr>\n",
       "      <th>0</th>\n",
       "      <td>sharp_original</td>\n",
       "      <td>Cantidad</td>\n",
       "      <td>-0.722194</td>\n",
       "      <td>Sharpe Ratio Fórmula Original</td>\n",
       "    </tr>\n",
       "    <tr>\n",
       "      <th>1</th>\n",
       "      <td>sharpe_actualizado</td>\n",
       "      <td>Cantidad</td>\n",
       "      <td>1.540761</td>\n",
       "      <td>Sharpe Ratio Fórmula Original</td>\n",
       "    </tr>\n",
       "    <tr>\n",
       "      <th>2</th>\n",
       "      <td>drawdown_capi</td>\n",
       "      <td>Fecha Inicial</td>\n",
       "      <td>2022.09.21 05:28:14</td>\n",
       "      <td>Fecha inicial del DrawDown de Capital</td>\n",
       "    </tr>\n",
       "    <tr>\n",
       "      <th>3</th>\n",
       "      <td>drawdown_capi</td>\n",
       "      <td>Fecha Final</td>\n",
       "      <td>2022.09.21 08:58:50</td>\n",
       "      <td>Fecha final del DrawDown de Capital</td>\n",
       "    </tr>\n",
       "    <tr>\n",
       "      <th>4</th>\n",
       "      <td>drawdown_capi</td>\n",
       "      <td>DrawDown $ (capital)</td>\n",
       "      <td>-213.73</td>\n",
       "      <td>Máxima pérdida flotante registrada</td>\n",
       "    </tr>\n",
       "    <tr>\n",
       "      <th>5</th>\n",
       "      <td>drawup_capi</td>\n",
       "      <td>Fecha Inicial</td>\n",
       "      <td>2022.09.22 07:34:12</td>\n",
       "      <td>Fecha inicial del DrawUp de Capital</td>\n",
       "    </tr>\n",
       "    <tr>\n",
       "      <th>6</th>\n",
       "      <td>drawup_capi</td>\n",
       "      <td>Fecha Final</td>\n",
       "      <td>2022.09.22 09:08:38</td>\n",
       "      <td>\\tFecha final del DrawUp de Capital</td>\n",
       "    </tr>\n",
       "    <tr>\n",
       "      <th>7</th>\n",
       "      <td>drawup_capi</td>\n",
       "      <td>DrawUp $ (capital)</td>\n",
       "      <td>224.71</td>\n",
       "      <td>Máxima ganancia flotante registrada</td>\n",
       "    </tr>\n",
       "  </tbody>\n",
       "</table>\n",
       "</div>"
      ],
      "text/plain": [
       "              Métrica                                      Valor  \\\n",
       "0      sharp_original              Cantidad            -0.722194   \n",
       "1  sharpe_actualizado              Cantidad             1.540761   \n",
       "2       drawdown_capi         Fecha Inicial  2022.09.21 05:28:14   \n",
       "3       drawdown_capi           Fecha Final  2022.09.21 08:58:50   \n",
       "4       drawdown_capi  DrawDown $ (capital)              -213.73   \n",
       "5         drawup_capi         Fecha Inicial  2022.09.22 07:34:12   \n",
       "6         drawup_capi           Fecha Final  2022.09.22 09:08:38   \n",
       "7         drawup_capi    DrawUp $ (capital)               224.71   \n",
       "\n",
       "                             Descripción  \n",
       "0          Sharpe Ratio Fórmula Original  \n",
       "1          Sharpe Ratio Fórmula Original  \n",
       "2  Fecha inicial del DrawDown de Capital  \n",
       "3    Fecha final del DrawDown de Capital  \n",
       "4     Máxima pérdida flotante registrada  \n",
       "5    Fecha inicial del DrawUp de Capital  \n",
       "6    \\tFecha final del DrawUp de Capital  \n",
       "7    Máxima ganancia flotante registrada  "
      ]
     },
     "execution_count": 208,
     "metadata": {},
     "output_type": "execute_result"
    }
   ],
   "source": [
    "f_estadisticas_mad(0.05,df4,dfdf)"
   ]
  },
  {
   "cell_type": "code",
   "execution_count": null,
   "id": "3a29f8e3",
   "metadata": {},
   "outputs": [],
   "source": []
  }
 ],
 "metadata": {
  "kernelspec": {
   "display_name": "Python 3 (ipykernel)",
   "language": "python",
   "name": "python3"
  },
  "language_info": {
   "codemirror_mode": {
    "name": "ipython",
    "version": 3
   },
   "file_extension": ".py",
   "mimetype": "text/x-python",
   "name": "python",
   "nbconvert_exporter": "python",
   "pygments_lexer": "ipython3",
   "version": "3.9.7"
  },
  "vscode": {
   "interpreter": {
    "hash": "46c30e3296a50a661b4943a2c56376fe5a40e136c2111b5e7675c27c3783cd9a"
   }
  }
 },
 "nbformat": 4,
 "nbformat_minor": 5
}
